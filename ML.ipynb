{
 "cells": [
  {
   "cell_type": "code",
   "execution_count": 622,
   "id": "41c4ea08",
   "metadata": {},
   "outputs": [],
   "source": [
    "import pandas as pd\n",
    "import matplotlib.pyplot as plt\n",
    "from sklearn.model_selection import train_test_split\n",
    "from sklearn import datasets\n",
    "from sklearn import svm\n",
    "from sklearn.model_selection import cross_val_score\n",
    "from sklearn.model_selection import KFold\n",
    "from sklearn.tree import DecisionTreeClassifier\n",
    "from sklearn.linear_model import LogisticRegression\n",
    "from sklearn.ensemble import GradientBoostingClassifier\n",
    "from sklearn.model_selection import train_test_split\n",
    "from sklearn import metrics\n",
    "from sklearn.metrics import classification_report\n",
    "from sklearn.decomposition import PCA\n",
    "from sklearn.preprocessing import StandardScaler  \n",
    "from sklearn.neural_network import MLPClassifier\n",
    "from sklearn.decomposition import PCA\n"
   ]
  },
  {
   "cell_type": "code",
   "execution_count": 623,
   "id": "aa1e8d30",
   "metadata": {},
   "outputs": [],
   "source": [
    "# Mapping all non continious values to number\n",
    "# WorkClass : Private, Self-emp-not-inc, Self-emp-inc, Federal-gov, Local-gov, State-gov, Without-pay, Never-worked\n",
    "def MapWorkclass(x):\n",
    "    if x == \"Private\": return 5\n",
    "    elif x == \"Self-emp-inc\": return 0\n",
    "    elif x == \"Federal-gov\": return 2\n",
    "    elif x == \"Local-gov\": return 4\n",
    "    elif x == \"State-gov\": return 1\n",
    "    elif x == \"Without-pay\": return 3\n",
    "    else: return -1\n",
    "\n",
    "# education: Bachelors, Some-college, 11th, HS-grad, Prof-school, Assoc-acdm, Assoc-voc, \n",
    "# 9th, 7th-8th, 12th, Masters, 1st-4th, 10th, Doctorate, 5th-6th, Preschool.    \n",
    "def MapEducation(x):\n",
    "    if x == \"Some-college\": return 0\n",
    "    elif x == \"Preschool\": return 1\n",
    "    elif x == \"5th-6th\": return 2\n",
    "    elif x == \"HS-grad\": return 3\n",
    "    elif x == \"Masters\": return 4\n",
    "    elif x == \"12th\": return 5\n",
    "    elif x == \"7th-8th\": return 6\n",
    "    elif x == \"Prof-school\": return 7\n",
    "    elif x == \"1st-4th\": return 8\n",
    "    elif x == \"Assoc-acdm\": return 9\n",
    "    elif x == \"Doctorate\": return 10\n",
    "    elif x == \"11th\": return 11 \n",
    "    elif x == \"Bachelors\": return 12\n",
    "    elif x == \"10th\": return 13\n",
    "    elif x == \"Assoc-voc\": return 14  \n",
    "    elif x == \"9th\": return 15\n",
    "\n",
    "#Married-civ-spouse, Divorced, Never-married, Separated, Widowed, Married-spouse-absent, Married-AF-spouse.    \n",
    "def MapMaritalstatus(x):\n",
    "    if x == \"Divorced\": return 4\n",
    "    elif x == \"Separated\": return 3\n",
    "    elif x == \"Widowed\": return 1\n",
    "    elif x == \"Never-married\": return 5\n",
    "    elif x == \"Married-spouse-absent\": return 0\n",
    "    elif x == \"Married-AF-spouse\": return 6\n",
    "    elif x == \"Married-civ-spouse\": return 2\n",
    "\n",
    "# Tech-support, Craft-repair, Other-service, Sales, Exec-managerial, Prof-specialty, Handlers-cleaners, \n",
    "# Machine-op-inspct, Adm-clerical, Farming-fishing, Transport-moving, Priv-house-serv, Protective-serv, Armed-Forces.\n",
    "def MapOccupation(x):\n",
    "    if x == \"Farming-fishing\": return 1\n",
    "    elif x == \"Tech-support\": return 2\n",
    "    elif x == \"Adm-clerical\": return 3\n",
    "    elif x == \"Handlers-cleaners\": return 4\n",
    "    elif x == \"Prof-specialty\": return 5\n",
    "    elif x == \"Machine-op-inspct\": return 6\n",
    "    elif x == \"Exec-managerial\": return 7\n",
    "    elif x == \"Priv-house-serv\": return 8\n",
    "    elif x == \"Craft-repair\": return 9\n",
    "    elif x == \"Sales\": return 10\n",
    "    elif x == \"Transport-moving\": return 11\n",
    "    elif x == \"Armed-Forces\": return 12\n",
    "    elif x == \"Other-service\": return 13\n",
    "    elif x == \"Protective-serv\": return 14\n",
    "\n",
    "\n",
    "\n",
    "# Wife, Own-child, Husband, Not-in-family, Other-relative, Unmarried\n",
    "def MapRelationship(x):\n",
    "    if x in [\"Wife\", \"Husband\"]: return 1\n",
    "    elif x == \"Own-child\": return 5\n",
    "    elif x == \"Not-in-family\": return 0\n",
    "    elif x == \"Other-relative\": return 2\n",
    "    elif x == \"Unmarried\": return 3\n",
    "\n",
    "\n",
    "# White, Asian-Pac-Islander, Amer-Indian-Eskimo, Other, Black.\n",
    "def MapRace(x):\n",
    "    if x == \"Amer-Indian-Eskimo\": return 4\n",
    "    elif x == \"White\": return 3\n",
    "    elif x == \"Other\": return 2\n",
    "    elif x == \"Asian-Pac-Islander\": return 1\n",
    "    elif x == \"Black\": return 0\n",
    "\n",
    "# Female, Male    \n",
    "def MapSex(x):\n",
    "    if x == \"Female\": return 1\n",
    "    elif x == \"Male\": return 0\n",
    "    \n",
    "def MapNativecountry(x):\n",
    "    if x in [\"United-States\", \"Cuba\", \"Poland\", \"Thailand\", \"Ecuador\", \"China\", \"South\", \"Scotland\", \"Greece\", \"Ireland\", \"Hungary\"]: return 2\n",
    "    elif x in [\"India\", \"England\", \"Canada\", \"Germany\", \"Iran\", \"Philippines\", \"Cambodia\", \"Taiwan\", \"France\", \"Italy\", \"Japan\", \"Yugoslavia\", \"Hong\"]: return 1\n",
    "    else: return 3\n"
   ]
  },
  {
   "cell_type": "code",
   "execution_count": 624,
   "id": "5513bad1",
   "metadata": {},
   "outputs": [],
   "source": [
    "# Mapping age values to bin\n",
    "def MapAge(x):\n",
    "    if (x>=0) and (x<20): return 1\n",
    "    elif (x>=20) and (x<40): return 2\n",
    "    elif (x>=40) and (x<60): return 3\n",
    "    elif (x>=60) and (x<80): return 4\n",
    "    else: return 5\n",
    "\n",
    "# Mapping hours-per-weak\n",
    "def MapHoursperweak(x):\n",
    "    if (x>=0) and (x<20): return 1\n",
    "    elif (x>=20) and (x<40): return 2\n",
    "    elif (x>=40) and (x<60): return 3\n",
    "    elif (x>=60) and (x<80): return 4\n",
    "    elif (x>=80): return 5\n",
    "    \n",
    "# Mapping education num\n",
    "def MapEducationNum(x):\n",
    "    if (x>=0) and (x<9): return 1\n",
    "    if (x>=9) and (x<15): return 2\n",
    "    elif (x>=15) : return 3\n",
    "    else: return 0"
   ]
  },
  {
   "cell_type": "code",
   "execution_count": 625,
   "id": "aea118b8",
   "metadata": {},
   "outputs": [],
   "source": [
    "# Import data from source, convert to dataframe and clean data\n",
    "\n",
    "# Import and convert to dataframe\n",
    "df = pd.read_csv('./dataset/adult.data.txt', sep=\", \", header=None, engine='python')\n",
    "\n",
    "# Define columns of the dataframe\n",
    "df.columns = [\"age\", \"workclass\", \"fnlwgt\", \"education\", \"education-num\", \"marital-status\", \"occupation\",\"relationship\", \"race\", \"sex\", \"capital-gain\", \"capital-loss\", \"hours-per-week\", \"native-country\", \"salary-range\"]\n",
    "\n",
    "# Get rid of rows that contain \"?\"\n",
    "df = df[df[\"workclass\"] != '?']\n",
    "df = df[df[\"education\"] != '?']\n",
    "df = df[df[\"marital-status\"] != '?']\n",
    "df = df[df[\"occupation\"] != '?']\n",
    "df = df[df[\"relationship\"] != '?']\n",
    "df = df[df[\"race\"] != '?']\n",
    "df = df[df[\"sex\"] != '?']\n",
    "df = df[df[\"native-country\"] != '?']\n",
    "\n",
    "# Sampling\n",
    "below_50K = df[df[\"salary-range\"] == \"<=50K\"].sample(n=7841)\n",
    "above_50K = df[df[\"salary-range\"] == \">50K\"]\n",
    "\n",
    "df = pd.concat([above_50K, below_50K])\n",
    "df['income'] = (df[\"salary-range\"] == \">50K\")*1\n",
    "adultsMapData = df.copy()\n",
    "adultsMapData['workclass'] = adultsMapData['workclass'].apply(MapWorkclass)\n",
    "adultsMapData['education'] = adultsMapData['education'].apply(MapEducation)\n",
    "adultsMapData['marital-status'] = adultsMapData['marital-status'].apply(MapMaritalstatus)\n",
    "adultsMapData['occupation'] = adultsMapData['occupation'].apply(MapOccupation)\n",
    "adultsMapData['relationship'] = adultsMapData['relationship'].apply(MapRelationship)\n",
    "adultsMapData['race'] = adultsMapData['race'].apply(MapRace)\n",
    "adultsMapData['sex'] = adultsMapData['sex'].apply(MapSex)\n",
    "adultsMapData['native-country'] = adultsMapData['native-country'].apply(MapNativecountry)\n",
    "adultsMapData['age'] = adultsMapData['age'].apply(MapAge)\n",
    "adultsMapData['hours-per-week'] = adultsMapData['hours-per-week'].apply(MapHoursperweak)\n",
    "adultsMapData['education-num'] = adultsMapData['education-num'].apply(MapEducationNum)\n",
    "#df.head()\n"
   ]
  },
  {
   "cell_type": "code",
   "execution_count": 626,
   "id": "ddc8cf12",
   "metadata": {},
   "outputs": [
    {
     "data": {
      "text/plain": [
       "<AxesSubplot:xlabel='workclass'>"
      ]
     },
     "execution_count": 626,
     "metadata": {},
     "output_type": "execute_result"
    },
    {
     "data": {
      "image/png": "[encoded data removed]",
      "text/plain": [
       "<Figure size 432x288 with 1 Axes>"
      ]
     },
     "metadata": {
      "needs_background": "light"
     },
     "output_type": "display_data"
    }
   ],
   "source": [
    "adultsMapData.groupby('workclass').income.mean().plot(kind='bar')"
   ]
  },
  {
   "cell_type": "code",
   "execution_count": 627,
   "id": "fead19e8",
   "metadata": {},
   "outputs": [
    {
     "data": {
      "text/plain": [
       "<AxesSubplot:xlabel='education'>"
      ]
     },
     "execution_count": 627,
     "metadata": {},
     "output_type": "execute_result"
    },
    {
     "data": {
      "image/png": "[encoded data removed]",
      "text/plain": [
       "<Figure size 432x288 with 1 Axes>"
      ]
     },
     "metadata": {
      "needs_background": "light"
     },
     "output_type": "display_data"
    }
   ],
   "source": [
    "adultsMapData.groupby('education').income.mean().plot(kind='bar')"
   ]
  },
  {
   "cell_type": "code",
   "execution_count": 628,
   "id": "384a931d",
   "metadata": {},
   "outputs": [
    {
     "data": {
      "text/plain": [
       "<AxesSubplot:xlabel='marital-status'>"
      ]
     },
     "execution_count": 628,
     "metadata": {},
     "output_type": "execute_result"
    },
    {
     "data": {
      "image/png": "[encoded data removed]",
      "text/plain": [
       "<Figure size 432x288 with 1 Axes>"
      ]
     },
     "metadata": {
      "needs_background": "light"
     },
     "output_type": "display_data"
    }
   ],
   "source": [
    "adultsMapData.groupby('marital-status').income.mean().plot(kind='bar')"
   ]
  },
  {
   "cell_type": "code",
   "execution_count": 629,
   "id": "e2a72c1c",
   "metadata": {},
   "outputs": [
    {
     "data": {
      "text/plain": [
       "<AxesSubplot:xlabel='occupation'>"
      ]
     },
     "execution_count": 629,
     "metadata": {},
     "output_type": "execute_result"
    },
    {
     "data": {
      "image/png": "[encoded data removed]",
      "text/plain": [
       "<Figure size 432x288 with 1 Axes>"
      ]
     },
     "metadata": {
      "needs_background": "light"
     },
     "output_type": "display_data"
    }
   ],
   "source": [
    "adultsMapData.groupby('occupation').income.mean().plot(kind='bar')"
   ]
  },
  {
   "cell_type": "code",
   "execution_count": 630,
   "id": "f89d862f",
   "metadata": {},
   "outputs": [
    {
     "data": {
      "text/plain": [
       "<AxesSubplot:xlabel='relationship'>"
      ]
     },
     "execution_count": 630,
     "metadata": {},
     "output_type": "execute_result"
    },
    {
     "data": {
      "image/png": "[encoded data removed]",
      "text/plain": [
       "<Figure size 432x288 with 1 Axes>"
      ]
     },
     "metadata": {
      "needs_background": "light"
     },
     "output_type": "display_data"
    }
   ],
   "source": [
    "adultsMapData.groupby('relationship').income.mean().plot(kind='bar')"
   ]
  },
  {
   "cell_type": "code",
   "execution_count": 631,
   "id": "be2e060d",
   "metadata": {},
   "outputs": [
    {
     "data": {
      "text/plain": [
       "<AxesSubplot:xlabel='race'>"
      ]
     },
     "execution_count": 631,
     "metadata": {},
     "output_type": "execute_result"
    },
    {
     "data": {
      "image/png": "[encoded data removed]",
      "text/plain": [
       "<Figure size 432x288 with 1 Axes>"
      ]
     },
     "metadata": {
      "needs_background": "light"
     },
     "output_type": "display_data"
    }
   ],
   "source": [
    "adultsMapData.groupby('race').income.mean().plot(kind='bar')"
   ]
  },
  {
   "cell_type": "code",
   "execution_count": 632,
   "id": "60d6d4fa",
   "metadata": {},
   "outputs": [
    {
     "data": {
      "text/plain": [
       "<AxesSubplot:xlabel='sex'>"
      ]
     },
     "execution_count": 632,
     "metadata": {},
     "output_type": "execute_result"
    },
    {
     "data": {
      "image/png": "[encoded data removed]",
      "text/plain": [
       "<Figure size 432x288 with 1 Axes>"
      ]
     },
     "metadata": {
      "needs_background": "light"
     },
     "output_type": "display_data"
    }
   ],
   "source": [
    "adultsMapData.groupby('sex').income.mean().plot(kind='bar')"
   ]
  },
  {
   "cell_type": "code",
   "execution_count": 633,
   "id": "19108db0",
   "metadata": {},
   "outputs": [
    {
     "data": {
      "text/plain": [
       "<AxesSubplot:xlabel='native-country'>"
      ]
     },
     "execution_count": 633,
     "metadata": {},
     "output_type": "execute_result"
    },
    {
     "data": {
      "image/png": "[encoded data removed]",
      "text/plain": [
       "<Figure size 432x288 with 1 Axes>"
      ]
     },
     "metadata": {
      "needs_background": "light"
     },
     "output_type": "display_data"
    }
   ],
   "source": [
    "adultsMapData.groupby('native-country').income.mean().plot(kind='bar')"
   ]
  },
  {
   "cell_type": "code",
   "execution_count": 634,
   "id": "2a26370c",
   "metadata": {
    "scrolled": true
   },
   "outputs": [
    {
     "data": {
      "text/plain": [
       "<AxesSubplot:xlabel='age'>"
      ]
     },
     "execution_count": 634,
     "metadata": {},
     "output_type": "execute_result"
    },
    {
     "data": {
      "image/png": "[encoded data removed]",
      "text/plain": [
       "<Figure size 432x288 with 1 Axes>"
      ]
     },
     "metadata": {
      "needs_background": "light"
     },
     "output_type": "display_data"
    }
   ],
   "source": [
    "adultsMapData.groupby('age').income.mean().plot(kind='bar')"
   ]
  },
  {
   "cell_type": "code",
   "execution_count": 635,
   "id": "def783f6",
   "metadata": {},
   "outputs": [
    {
     "data": {
      "text/plain": [
       "<AxesSubplot:xlabel='hours-per-week'>"
      ]
     },
     "execution_count": 635,
     "metadata": {},
     "output_type": "execute_result"
    },
    {
     "data": {
      "image/png": "[encoded data removed]",
      "text/plain": [
       "<Figure size 432x288 with 1 Axes>"
      ]
     },
     "metadata": {
      "needs_background": "light"
     },
     "output_type": "display_data"
    }
   ],
   "source": [
    "adultsMapData.groupby('hours-per-week').income.mean().plot(kind='bar')"
   ]
  },
  {
   "cell_type": "code",
   "execution_count": 636,
   "id": "c66199b7",
   "metadata": {},
   "outputs": [
    {
     "data": {
      "text/plain": [
       "<AxesSubplot:xlabel='education-num'>"
      ]
     },
     "execution_count": 636,
     "metadata": {},
     "output_type": "execute_result"
    },
    {
     "data": {
      "image/png": "[encoded data removed]",
      "text/plain": [
       "<Figure size 432x288 with 1 Axes>"
      ]
     },
     "metadata": {
      "needs_background": "light"
     },
     "output_type": "display_data"
    }
   ],
   "source": [
    "adultsMapData.groupby('education-num').income.mean().plot(kind='bar')"
   ]
  },
  {
   "cell_type": "code",
   "execution_count": 637,
   "id": "775822e0",
   "metadata": {},
   "outputs": [
    {
     "data": {
      "text/html": [
       "<div>\n",
       "<style scoped>\n",
       "    .dataframe tbody tr th:only-of-type {\n",
       "        vertical-align: middle;\n",
       "    }\n",
       "\n",
       "    .dataframe tbody tr th {\n",
       "        vertical-align: top;\n",
       "    }\n",
       "\n",
       "    .dataframe thead th {\n",
       "        text-align: right;\n",
       "    }\n",
       "</style>\n",
       "<table border=\"1\" class=\"dataframe\">\n",
       "  <thead>\n",
       "    <tr style=\"text-align: right;\">\n",
       "      <th></th>\n",
       "      <th>age</th>\n",
       "      <th>education</th>\n",
       "      <th>education-num</th>\n",
       "      <th>marital-status</th>\n",
       "      <th>occupation</th>\n",
       "      <th>relationship</th>\n",
       "      <th>sex</th>\n",
       "      <th>hours-per-week</th>\n",
       "      <th>income</th>\n",
       "    </tr>\n",
       "  </thead>\n",
       "  <tbody>\n",
       "    <tr>\n",
       "      <th>7</th>\n",
       "      <td>3</td>\n",
       "      <td>3</td>\n",
       "      <td>2</td>\n",
       "      <td>2</td>\n",
       "      <td>7</td>\n",
       "      <td>1</td>\n",
       "      <td>0</td>\n",
       "      <td>3</td>\n",
       "      <td>1</td>\n",
       "    </tr>\n",
       "    <tr>\n",
       "      <th>8</th>\n",
       "      <td>2</td>\n",
       "      <td>4</td>\n",
       "      <td>2</td>\n",
       "      <td>5</td>\n",
       "      <td>5</td>\n",
       "      <td>0</td>\n",
       "      <td>1</td>\n",
       "      <td>3</td>\n",
       "      <td>1</td>\n",
       "    </tr>\n",
       "    <tr>\n",
       "      <th>9</th>\n",
       "      <td>3</td>\n",
       "      <td>12</td>\n",
       "      <td>2</td>\n",
       "      <td>2</td>\n",
       "      <td>7</td>\n",
       "      <td>1</td>\n",
       "      <td>0</td>\n",
       "      <td>3</td>\n",
       "      <td>1</td>\n",
       "    </tr>\n",
       "    <tr>\n",
       "      <th>10</th>\n",
       "      <td>2</td>\n",
       "      <td>0</td>\n",
       "      <td>2</td>\n",
       "      <td>2</td>\n",
       "      <td>7</td>\n",
       "      <td>1</td>\n",
       "      <td>0</td>\n",
       "      <td>5</td>\n",
       "      <td>1</td>\n",
       "    </tr>\n",
       "    <tr>\n",
       "      <th>11</th>\n",
       "      <td>2</td>\n",
       "      <td>12</td>\n",
       "      <td>2</td>\n",
       "      <td>2</td>\n",
       "      <td>5</td>\n",
       "      <td>1</td>\n",
       "      <td>0</td>\n",
       "      <td>3</td>\n",
       "      <td>1</td>\n",
       "    </tr>\n",
       "  </tbody>\n",
       "</table>\n",
       "</div>"
      ],
      "text/plain": [
       "    age  education  education-num  marital-status  occupation  relationship  \\\n",
       "7     3          3              2               2           7             1   \n",
       "8     2          4              2               5           5             0   \n",
       "9     3         12              2               2           7             1   \n",
       "10    2          0              2               2           7             1   \n",
       "11    2         12              2               2           5             1   \n",
       "\n",
       "    sex  hours-per-week  income  \n",
       "7     0               3       1  \n",
       "8     1               3       1  \n",
       "9     0               3       1  \n",
       "10    0               5       1  \n",
       "11    0               3       1  "
      ]
     },
     "execution_count": 637,
     "metadata": {},
     "output_type": "execute_result"
    }
   ],
   "source": [
    "adultsMapData.drop(['fnlwgt', 'capital-gain', 'capital-loss', 'salary-range'], axis=1, inplace=True)\n",
    "adultsMapData.drop(['workclass', 'native-country', 'race'], axis=1, inplace=True)\n",
    "#adultsMapDataNew = adultsMapData[['education-num', 'hours-per-week', 'age', 'sex', 'relationship', 'marital-status', 'education']]\n",
    "adultsMapData.head()"
   ]
  },
  {
   "cell_type": "code",
   "execution_count": 638,
   "id": "2d62f271",
   "metadata": {
    "scrolled": false
   },
   "outputs": [
    {
     "name": "stdout",
     "output_type": "stream",
     "text": [
      "[0.24696716 0.14724472 0.13559269 0.12813193 0.09859583 0.0905448\n",
      " 0.08334968 0.06957318]\n"
     ]
    }
   ],
   "source": [
    "X, Y = adultsMapData.iloc[:, :-1], adultsMapData.iloc[:, [-1]]\n",
    "#Decision Tree\n",
    "X_train, X_test, y_train, y_test = train_test_split(X, Y, test_size=0.3, random_state=1)\n",
    "X_train.fillna(X_train.mean())\n",
    "X_test.fillna(X_test.mean())\n",
    "#Scaling\n",
    "scaler = StandardScaler()  \n",
    "scaler.fit(X_train)\n",
    "X_train = scaler.transform(X_train)  \n",
    "X_test = scaler.transform(X_test)\n",
    "\n",
    "pca = PCA()\n",
    "X_train = pca.fit_transform(X_train)\n",
    "X_test = pca.transform(X_test)\n",
    "explained_variance = pca.explained_variance_ratio_\n",
    "print(explained_variance)"
   ]
  },
  {
   "cell_type": "code",
   "execution_count": 639,
   "id": "200bd561",
   "metadata": {},
   "outputs": [
    {
     "name": "stdout",
     "output_type": "stream",
     "text": [
      "              precision    recall  f1-score   support\n",
      "\n",
      "           0       0.78      0.73      0.75      2337\n",
      "           1       0.74      0.79      0.76      2268\n",
      "\n",
      "    accuracy                           0.76      4605\n",
      "   macro avg       0.76      0.76      0.76      4605\n",
      "weighted avg       0.76      0.76      0.76      4605\n",
      "\n"
     ]
    }
   ],
   "source": [
    "# Decision tree\n",
    "clf = DecisionTreeClassifier().fit(X_train, y_train.values.ravel())\n",
    "\n",
    "#Predict the response for test dataset\n",
    "y_pred = clf.predict(X_test)\n",
    "print(classification_report(y_test,y_pred))"
   ]
  },
  {
   "cell_type": "code",
   "execution_count": 640,
   "id": "81ae8540",
   "metadata": {
    "scrolled": false
   },
   "outputs": [
    {
     "name": "stdout",
     "output_type": "stream",
     "text": [
      "              precision    recall  f1-score   support\n",
      "\n",
      "           0       0.81      0.70      0.75      2337\n",
      "           1       0.73      0.83      0.78      2268\n",
      "\n",
      "    accuracy                           0.76      4605\n",
      "   macro avg       0.77      0.76      0.76      4605\n",
      "weighted avg       0.77      0.76      0.76      4605\n",
      "\n"
     ]
    }
   ],
   "source": [
    "# logistic regression\n",
    "clf = LogisticRegression().fit(X_train, y_train.values.ravel())\n",
    "\n",
    "#Predict the response for test dataset\n",
    "y_pred = clf.predict(X_test)\n",
    "print(classification_report(y_test,y_pred))"
   ]
  },
  {
   "cell_type": "code",
   "execution_count": 641,
   "id": "23c8fe1b",
   "metadata": {
    "scrolled": true
   },
   "outputs": [
    {
     "name": "stdout",
     "output_type": "stream",
     "text": [
      "              precision    recall  f1-score   support\n",
      "\n",
      "           0       0.83      0.73      0.78      2337\n",
      "           1       0.75      0.84      0.79      2268\n",
      "\n",
      "    accuracy                           0.79      4605\n",
      "   macro avg       0.79      0.79      0.79      4605\n",
      "weighted avg       0.79      0.79      0.79      4605\n",
      "\n"
     ]
    }
   ],
   "source": [
    "# GradientBoostingClassifier\n",
    "clf = GradientBoostingClassifier().fit(X_train, y_train.values.ravel())\n",
    "\n",
    "#Predict the response for test dataset\n",
    "y_pred = clf.predict(X_test)\n",
    "print(classification_report(y_test,y_pred))"
   ]
  },
  {
   "cell_type": "code",
   "execution_count": 642,
   "id": "7b89edf9",
   "metadata": {
    "scrolled": true
   },
   "outputs": [
    {
     "name": "stdout",
     "output_type": "stream",
     "text": [
      "              precision    recall  f1-score   support\n",
      "\n",
      "           0       0.84      0.72      0.78      2337\n",
      "           1       0.75      0.85      0.80      2268\n",
      "\n",
      "    accuracy                           0.79      4605\n",
      "   macro avg       0.79      0.79      0.79      4605\n",
      "weighted avg       0.79      0.79      0.79      4605\n",
      "\n"
     ]
    },
    {
     "name": "stderr",
     "output_type": "stream",
     "text": [
      "/opt/anaconda3/envs/CSE578/lib/python3.8/site-packages/sklearn/neural_network/_multilayer_perceptron.py:568: ConvergenceWarning: Stochastic Optimizer: Maximum iterations (200) reached and the optimization hasn't converged yet.\n",
      "  warnings.warn(\n"
     ]
    }
   ],
   "source": [
    "# Finally for the MLP- Multilayer Perceptron\n",
    "clf = MLPClassifier()  \n",
    "clf = clf.fit(X_train, y_train.values.ravel())\n",
    "\n",
    "#Predict the response for test dataset\n",
    "y_pred = clf.predict(X_test)\n",
    "print(classification_report(y_test,y_pred))"
   ]
  }
 ],
 "metadata": {
  "kernelspec": {
   "display_name": "Python 3",
   "language": "python",
   "name": "python3"
  },
  "language_info": {
   "codemirror_mode": {
    "name": "ipython",
    "version": 3
   },
   "file_extension": ".py",
   "mimetype": "text/x-python",
   "name": "python",
   "nbconvert_exporter": "python",
   "pygments_lexer": "ipython3",
   "version": "3.8.5"
  }
 },
 "nbformat": 4,
 "nbformat_minor": 5
}
